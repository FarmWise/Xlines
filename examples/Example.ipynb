{
 "cells": [
  {
   "cell_type": "code",
   "execution_count": 1,
   "metadata": {
    "collapsed": true
   },
   "outputs": [],
   "source": [
    "%matplotlib inline\n",
    "\n",
    "import matplotlib as mpl\n",
    "import matplotlib.pyplot as plt\n",
    "import numpy as np\n",
    "from time import time\n",
    "from timeit import timeit"
   ]
  },
  {
   "cell_type": "code",
   "execution_count": 2,
   "metadata": {
    "collapsed": false
   },
   "outputs": [],
   "source": [
    "from xlines import utils, KLines, XLines"
   ]
  },
  {
   "cell_type": "code",
   "execution_count": 3,
   "metadata": {
    "collapsed": true
   },
   "outputs": [],
   "source": [
    "def rotated_cov(a, l1, l2, radians = False):\n",
    "    r = utils.rotation_matrix(a, radians)\n",
    "    d = np.diag([l1, l2])\n",
    "    return np.dot(r, np.dot(d, r.T))"
   ]
  },
  {
   "cell_type": "markdown",
   "metadata": {},
   "source": [
    "## Example with 4 lines"
   ]
  },
  {
   "cell_type": "code",
   "execution_count": 4,
   "metadata": {
    "collapsed": false
   },
   "outputs": [
    {
     "name": "stderr",
     "output_type": "stream",
     "text": [
      "C:\\MyPrograms\\Anaconda\\lib\\site-packages\\matplotlib\\collections.py:571: FutureWarning: elementwise comparison failed; returning scalar instead, but in the future will perform elementwise comparison\n",
      "  if self._edgecolors == str('face'):\n"
     ]
    },
    {
     "data": {
      "image/png": "[encoded data removed]",
      "text/plain": [
       "<matplotlib.figure.Figure at 0x8d967f0>"
      ]
     },
     "metadata": {},
     "output_type": "display_data"
    }
   ],
   "source": [
    "# Number of samples per component\n",
    "n_samples = 10\n",
    "\n",
    "# Generate random sample, 4 components\n",
    "np.random.seed(0)\n",
    "COV = rotated_cov(20, 100., 0.5)  # covariance matrix\n",
    "origins = [[10., 0.], [10., -5.], [10., -9.], [8., -14.]]\n",
    "# origins = [[10., 0.], [10., -5.], [8., -20.]]\n",
    "\n",
    "# Data\n",
    "Xs = [np.random.multivariate_normal(O, COV, size=n_samples) for O in origins]\n",
    "X = np.concatenate(Xs, axis=0)\n",
    "\n",
    "colors = mpl.cm.rainbow(np.linspace(0, 1, len(Xs)))\n",
    "for x,c in zip(Xs,colors):\n",
    "    plt.scatter(x[:, 0], x[:, 1], color=c)\n",
    "plt.show()"
   ]
  },
  {
   "cell_type": "markdown",
   "metadata": {},
   "source": [
    "## KLines with k=4"
   ]
  },
  {
   "cell_type": "code",
   "execution_count": 5,
   "metadata": {
    "collapsed": false
   },
   "outputs": [
    {
     "name": "stdout",
     "output_type": "stream",
     "text": [
      "Selected alpha=40.0 at init\n",
      "Kmeans w/ proj 40.00: -91.99\n",
      "Kmeans w/ proj 34.51: -64.73\n",
      "Kmeans w/ proj 29.91: -57.83\n",
      "Kmeans w/ proj 26.06: -36.82\n",
      "Kmeans w/ proj 22.56: -19.34\n",
      "Kmeans w/ proj 21.10: -15.93\n",
      "\n",
      "Converged with orientation: 21.10\n",
      "Line centroids:\n",
      "[[  5.86781727 -15.20455437]\n",
      " [  1.16602816  -3.0213856 ]\n",
      " [  4.36984832 -11.32305135]\n",
      " [  2.98301772  -7.72952753]]\n"
     ]
    }
   ],
   "source": [
    "model = KLines(n_components=4, init_alpha=True, max_iter=15, verbose=1)\n",
    "model.fit(X)\n",
    "a = model.alpha_ # orientation in radians\n",
    "\n",
    "print(\"\\nConverged with orientation: {:.2f}\".format(utils.rad2deg(a)))\n",
    "print(\"Line centroids:\\n{}\".format(model.centroids_))"
   ]
  },
  {
   "cell_type": "markdown",
   "metadata": {},
   "source": [
    "## XLines with candidates: [4,2,3,5,6]"
   ]
  },
  {
   "cell_type": "code",
   "execution_count": 6,
   "metadata": {
    "collapsed": false
   },
   "outputs": [
    {
     "name": "stdout",
     "output_type": "stream",
     "text": [
      "-Test 4 components\n",
      "Selected alpha=40.0 at init\n",
      "Kmeans w/ proj 40.00: -91.99\n",
      "Kmeans w/ proj 34.51: -64.73\n",
      "Kmeans w/ proj 29.91: -57.83\n",
      "Kmeans w/ proj 26.06: -36.82\n",
      "Kmeans w/ proj 22.56: -19.34\n",
      "Kmeans w/ proj 21.10: -15.93\n",
      "-Test 2 components\n",
      "Kmeans w/ proj 21.10: -229.82\n",
      "Kmeans w/ proj 23.06: -226.11\n",
      "Kmeans w/ proj 24.18: -225.72\n",
      "Kmeans w/ proj 26.05: -216.64\n",
      "-Test 3 components\n",
      "Kmeans w/ proj 21.10: -92.24\n",
      "Kmeans w/ proj 22.05: -94.05\n",
      "Kmeans w/ proj 22.98: -96.11\n",
      "-Test 5 components\n",
      "Kmeans w/ proj 21.10: -12.29\n",
      "Kmeans w/ proj 18.86: -11.92\n",
      "Kmeans w/ proj 19.81: -11.58\n",
      "-Test 6 components\n",
      "Kmeans w/ proj 21.10: -9.26\n",
      "-Results:\n",
      "Candidate scores: [0.80366761617576254, 0.66726385123590215, 0.62515825909242806, 0.73288783035788452, 0.72186833098641578]\n",
      "Best model with 4 components\n",
      "Best model with orientation: 21.10\n"
     ]
    }
   ],
   "source": [
    "tol = 0.01\n",
    "clustering_n_init = 3\n",
    "clustering_init = \"estimate\"\n",
    "\n",
    "xmodel = XLines(candidates=[4,2,3,5,6], init_alpha=\"one\", metric=\"silhouette\", tol=tol, clustering_n_init=clustering_n_init, clustering_init=clustering_init, verbose=2)\n",
    "best_model, best_k = xmodel.fit(X)"
   ]
  },
  {
   "cell_type": "code",
   "execution_count": 7,
   "metadata": {
    "collapsed": false
   },
   "outputs": [
    {
     "data": {
      "image/png": "[encoded data removed]",
      "text/plain": [
       "<matplotlib.figure.Figure at 0x8db69b0>"
      ]
     },
     "metadata": {},
     "output_type": "display_data"
    }
   ],
   "source": [
    "for x,y in best_model.centroids_:\n",
    "    plt.scatter(x,y)\n",
    "plt.show()"
   ]
  },
  {
   "cell_type": "code",
   "execution_count": null,
   "metadata": {
    "collapsed": true
   },
   "outputs": [],
   "source": []
  }
 ],
 "metadata": {
  "kernelspec": {
   "display_name": "Python 2",
   "language": "python",
   "name": "python2"
  },
  "language_info": {
   "codemirror_mode": {
    "name": "ipython",
    "version": 2
   },
   "file_extension": ".py",
   "mimetype": "text/x-python",
   "name": "python",
   "nbconvert_exporter": "python",
   "pygments_lexer": "ipython2",
   "version": "2.7.13"
  }
 },
 "nbformat": 4,
 "nbformat_minor": 0
}
